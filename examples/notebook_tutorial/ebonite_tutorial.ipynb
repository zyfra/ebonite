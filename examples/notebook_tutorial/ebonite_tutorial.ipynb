{
 "cells": [
  {
   "cell_type": "markdown",
   "metadata": {},
   "source": [
    "# Ebonite Tutorial"
   ]
  },
  {
   "cell_type": "markdown",
   "metadata": {},
   "source": [
    "Ebonite is a framework for managing machine learning models and their lifecycle.\n",
    "One the main features is building services from ML models. Also Ebonite can reliably persist them to database of your choice."
   ]
  },
  {
   "cell_type": "markdown",
   "metadata": {},
   "source": [
    "## Installing requirements"
   ]
  },
  {
   "cell_type": "code",
   "execution_count": 1,
   "metadata": {
    "pycharm": {
     "is_executing": false
    },
    "scrolled": true
   },
   "outputs": [
    {
     "name": "stdout",
     "output_type": "stream",
     "text": [
      "Requirement already up-to-date: ebonite in /Users/mike0sv/miniconda3/envs/mlmlc2/lib/python3.6/site-packages (0.3.3)\n",
      "Requirement already up-to-date: flask in /Users/mike0sv/miniconda3/envs/mlmlc2/lib/python3.6/site-packages (1.1.1)\n",
      "Requirement already up-to-date: flasgger in /Users/mike0sv/miniconda3/envs/mlmlc2/lib/python3.6/site-packages (0.9.3)\n",
      "Requirement already up-to-date: pandas in /Users/mike0sv/miniconda3/envs/mlmlc2/lib/python3.6/site-packages (0.25.3)\n",
      "Requirement already up-to-date: scikit-learn in /Users/mike0sv/miniconda3/envs/mlmlc2/lib/python3.6/site-packages (0.22.1)\n",
      "Requirement already satisfied, skipping upgrade: pyjackson==0.0.23 in /Users/mike0sv/miniconda3/envs/mlmlc2/lib/python3.6/site-packages (from ebonite) (0.0.23)\n",
      "Requirement already satisfied, skipping upgrade: everett==1.0.2 in /Users/mike0sv/miniconda3/envs/mlmlc2/lib/python3.6/site-packages (from ebonite) (1.0.2)\n",
      "Requirement already satisfied, skipping upgrade: pyyaml==5.1.2 in /Users/mike0sv/miniconda3/envs/mlmlc2/lib/python3.6/site-packages (from ebonite) (5.1.2)\n",
      "Requirement already satisfied, skipping upgrade: dill==0.3.1.1 in /Users/mike0sv/miniconda3/envs/mlmlc2/lib/python3.6/site-packages (from ebonite) (0.3.1.1)\n",
      "Requirement already satisfied, skipping upgrade: requests==2.22.0 in /Users/mike0sv/miniconda3/envs/mlmlc2/lib/python3.6/site-packages (from ebonite) (2.22.0)\n",
      "Requirement already satisfied, skipping upgrade: isort==4.3.21 in /Users/mike0sv/miniconda3/envs/mlmlc2/lib/python3.6/site-packages (from ebonite) (4.3.21)\n",
      "Requirement already satisfied, skipping upgrade: Jinja2==2.10.1 in /Users/mike0sv/miniconda3/envs/mlmlc2/lib/python3.6/site-packages (from ebonite) (2.10.1)\n",
      "Requirement already satisfied, skipping upgrade: GitPython==3.0.3 in /Users/mike0sv/miniconda3/envs/mlmlc2/lib/python3.6/site-packages (from ebonite) (3.0.3)\n",
      "Requirement already satisfied, skipping upgrade: docker==4.1.0 in /Users/mike0sv/miniconda3/envs/mlmlc2/lib/python3.6/site-packages (from ebonite) (4.1.0)\n",
      "Requirement already satisfied, skipping upgrade: itsdangerous>=0.24 in /Users/mike0sv/miniconda3/envs/mlmlc2/lib/python3.6/site-packages (from flask) (1.1.0)\n",
      "Requirement already satisfied, skipping upgrade: click>=5.1 in /Users/mike0sv/miniconda3/envs/mlmlc2/lib/python3.6/site-packages (from flask) (7.0)\n",
      "Requirement already satisfied, skipping upgrade: Werkzeug>=0.15 in /Users/mike0sv/miniconda3/envs/mlmlc2/lib/python3.6/site-packages (from flask) (0.16.0)\n",
      "Requirement already satisfied, skipping upgrade: jsonschema<3.0.0 in /Users/mike0sv/miniconda3/envs/mlmlc2/lib/python3.6/site-packages (from flasgger) (2.6.0)\n",
      "Requirement already satisfied, skipping upgrade: six>=1.10.0 in /Users/mike0sv/miniconda3/envs/mlmlc2/lib/python3.6/site-packages (from flasgger) (1.12.0)\n",
      "Requirement already satisfied, skipping upgrade: mistune in /Users/mike0sv/miniconda3/envs/mlmlc2/lib/python3.6/site-packages (from flasgger) (0.8.4)\n",
      "Requirement already satisfied, skipping upgrade: pytz>=2017.2 in /Users/mike0sv/miniconda3/envs/mlmlc2/lib/python3.6/site-packages (from pandas) (2018.9)\n",
      "Requirement already satisfied, skipping upgrade: numpy>=1.13.3 in /Users/mike0sv/miniconda3/envs/mlmlc2/lib/python3.6/site-packages (from pandas) (1.17.3)\n",
      "Requirement already satisfied, skipping upgrade: python-dateutil>=2.6.1 in /Users/mike0sv/miniconda3/envs/mlmlc2/lib/python3.6/site-packages (from pandas) (2.7.5)\n",
      "Requirement already satisfied, skipping upgrade: joblib>=0.11 in /Users/mike0sv/miniconda3/envs/mlmlc2/lib/python3.6/site-packages (from scikit-learn) (0.14.0)\n",
      "Requirement already satisfied, skipping upgrade: scipy>=0.17.0 in /Users/mike0sv/miniconda3/envs/mlmlc2/lib/python3.6/site-packages (from scikit-learn) (1.3.2)\n",
      "Requirement already satisfied, skipping upgrade: urllib3!=1.25.0,!=1.25.1,<1.26,>=1.21.1 in /Users/mike0sv/miniconda3/envs/mlmlc2/lib/python3.6/site-packages (from requests==2.22.0->ebonite) (1.24.1)\n",
      "Requirement already satisfied, skipping upgrade: certifi>=2017.4.17 in /Users/mike0sv/miniconda3/envs/mlmlc2/lib/python3.6/site-packages (from requests==2.22.0->ebonite) (2019.9.11)\n",
      "Requirement already satisfied, skipping upgrade: idna<2.9,>=2.5 in /Users/mike0sv/miniconda3/envs/mlmlc2/lib/python3.6/site-packages (from requests==2.22.0->ebonite) (2.8)\n",
      "Requirement already satisfied, skipping upgrade: chardet<3.1.0,>=3.0.2 in /Users/mike0sv/miniconda3/envs/mlmlc2/lib/python3.6/site-packages (from requests==2.22.0->ebonite) (3.0.4)\n",
      "Requirement already satisfied, skipping upgrade: MarkupSafe>=0.23 in /Users/mike0sv/miniconda3/envs/mlmlc2/lib/python3.6/site-packages (from Jinja2==2.10.1->ebonite) (1.1.0)\n",
      "Requirement already satisfied, skipping upgrade: gitdb2>=2.0.0 in /Users/mike0sv/miniconda3/envs/mlmlc2/lib/python3.6/site-packages (from GitPython==3.0.3->ebonite) (2.0.5)\n",
      "Requirement already satisfied, skipping upgrade: websocket-client>=0.32.0 in /Users/mike0sv/miniconda3/envs/mlmlc2/lib/python3.6/site-packages (from docker==4.1.0->ebonite) (0.54.0)\n",
      "Requirement already satisfied, skipping upgrade: smmap2>=2.0.0 in /Users/mike0sv/miniconda3/envs/mlmlc2/lib/python3.6/site-packages (from gitdb2>=2.0.0->GitPython==3.0.3->ebonite) (2.0.5)\n"
     ]
    }
   ],
   "source": [
    "! pip install -U ebonite flask flasgger scikit-learn"
   ]
  },
  {
   "cell_type": "markdown",
   "metadata": {},
   "source": [
    "## Train a model\n",
    "\n",
    "This is the part where you train your model like you usually do. It can be any type of model from supported framework ([list of supported frameworks](https://github.com/zyfra/ebonite#supported-libraries-and-repositories)). \n",
    "If your framework is not supported, you can use any python function as a model or you can easily [implement](https://ebonite.readthedocs.io/en/latest/usage/04_adding_custom_analyzers.html) suppport for your framework.\n",
    "\n",
    "In this example we will train simple linear regression model from sklearn library."
   ]
  },
  {
   "cell_type": "code",
   "execution_count": 2,
   "metadata": {},
   "outputs": [
    {
     "data": {
      "text/plain": [
       "LinearRegression(copy_X=True, fit_intercept=True, n_jobs=None, normalize=False)"
      ]
     },
     "execution_count": 2,
     "metadata": {},
     "output_type": "execute_result"
    }
   ],
   "source": [
    "from sklearn.datasets import load_diabetes\n",
    "from sklearn.linear_model import LinearRegression\n",
    "\n",
    "X, y = load_diabetes(True)\n",
    "\n",
    "lr = LinearRegression()\n",
    "lr.fit(X, y)"
   ]
  },
  {
   "cell_type": "markdown",
   "metadata": {},
   "source": [
    "Now we have `lr` object with trained model"
   ]
  },
  {
   "cell_type": "markdown",
   "metadata": {},
   "source": [
    "## Create ebonite Model from model object"
   ]
  },
  {
   "cell_type": "code",
   "execution_count": 3,
   "metadata": {},
   "outputs": [],
   "source": [
    "import ebonite"
   ]
  },
  {
   "cell_type": "markdown",
   "metadata": {},
   "source": [
    "Let's use `create_model` function to turn our `lr` object into ebonite `Model` object"
   ]
  },
  {
   "cell_type": "code",
   "execution_count": 4,
   "metadata": {},
   "outputs": [
    {
     "data": {
      "text/plain": [
       "Model(id=None,name=diabetes_model_1)"
      ]
     },
     "execution_count": 4,
     "metadata": {},
     "output_type": "execute_result"
    }
   ],
   "source": [
    "model = ebonite.create_model(lr, X, model_name='diabetes_model_1')\n",
    "model"
   ]
  },
  {
   "cell_type": "markdown",
   "metadata": {},
   "source": [
    "As you noticed, we also provide sample data when creating `Model`.\n",
    "This is needed for ebonite to determine input and output data types that this model consumes and produces.\n",
    "Using this information, ebonite will automatically provide valid interfaces and data serializers.\n",
    "\n",
    "Now let's see what metadata ebonite got from `lr` object."
   ]
  },
  {
   "cell_type": "code",
   "execution_count": 5,
   "metadata": {},
   "outputs": [
    {
     "name": "stdout",
     "output_type": "stream",
     "text": [
      "{'author': 'mike0sv',\n",
      " 'creation_date': '2020-01-18 22:51:50.296290 ',\n",
      " 'name': 'diabetes_model_1',\n",
      " 'requirements': {'requirements': [{'module': 'numpy',\n",
      "                                    'type': 'installable',\n",
      "                                    'version': '1.17.3'},\n",
      "                                   {'module': 'sklearn',\n",
      "                                    'type': 'installable',\n",
      "                                    'version': '0.22.1'}]},\n",
      " 'wrapper': {'type': 'ebonite.ext.sklearn.model.SklearnModelWrapper'}}\n"
     ]
    }
   ],
   "source": [
    "from pprint import pprint\n",
    "from pyjackson import serialize\n",
    "\n",
    "pprint(serialize(model))"
   ]
  },
  {
   "cell_type": "markdown",
   "metadata": {},
   "source": [
    "We can see that ebonite determined type of model (sklearn model) and it's requirements: sklearn for model and numpy for data.`"
   ]
  },
  {
   "cell_type": "markdown",
   "metadata": {},
   "source": [
    "## Use ebonite client to push Model to repository"
   ]
  },
  {
   "cell_type": "markdown",
   "metadata": {},
   "source": [
    "Now we can save `Model` to repository. For this example we will use local repository, which stores artifacts and metadata in `.ebonite` directory on local filesystem.\n",
    "For production, instead you can use different combinations of repositories for metadata and artifacts, for example PostgeSQL db for metadata and S3 bucket for artifacts."
   ]
  },
  {
   "cell_type": "code",
   "execution_count": 6,
   "metadata": {},
   "outputs": [
    {
     "data": {
      "text/plain": [
       "Model(id=68a78d5a-3849-45ef-a728-5da4ac37ec34,name=diabetes_model_1)"
      ]
     },
     "execution_count": 6,
     "metadata": {},
     "output_type": "execute_result"
    }
   ],
   "source": [
    "ebnt = ebonite.Ebonite.local(clear=True)\n",
    "task = ebnt.get_or_create_task('my_prj', 'diabetes_task')\n",
    "task.push_model(model)"
   ]
  },
  {
   "cell_type": "markdown",
   "metadata": {},
   "source": [
    "We create `Task` object with name `diabetes_task` to store our model, which is stored in `Project` object with name `my_prj`.\n",
    "Projects and Tasks are needed to add structure to your repository, so you can use one ebonite instance for all different problems you are working on."
   ]
  },
  {
   "cell_type": "code",
   "execution_count": 7,
   "metadata": {},
   "outputs": [
    {
     "data": {
      "text/plain": [
       "'68a78d5a-3849-45ef-a728-5da4ac37ec34'"
      ]
     },
     "execution_count": 7,
     "metadata": {},
     "output_type": "execute_result"
    }
   ],
   "source": [
    "model.id"
   ]
  },
  {
   "cell_type": "markdown",
   "metadata": {},
   "source": [
    "Now that we pushed our model, it has an `id` attribute. It can be used to load this model from repository, however model name also can be used for this."
   ]
  },
  {
   "cell_type": "code",
   "execution_count": 8,
   "metadata": {},
   "outputs": [],
   "source": [
    "model = ebnt.get_model('diabetes_model_1', task)"
   ]
  },
  {
   "cell_type": "code",
   "execution_count": 9,
   "metadata": {},
   "outputs": [
    {
     "data": {
      "text/plain": [
       "Model(id=68a78d5a-3849-45ef-a728-5da4ac37ec34,name=diabetes_model_1)"
      ]
     },
     "execution_count": 9,
     "metadata": {},
     "output_type": "execute_result"
    }
   ],
   "source": [
    "model"
   ]
  },
  {
   "cell_type": "code",
   "execution_count": 10,
   "metadata": {},
   "outputs": [
    {
     "name": "stdout",
     "output_type": "stream",
     "text": [
      "{'artifact': {'blobs': {'methods.json': {'path': '/Users/mike0sv/PycharmProjects/zyfra/ebonite/ebonite/examples/notebook_tutorial/.ebonite/artifacts/68a78d5a-3849-45ef-a728-5da4ac37ec34/methods.json',\n",
      "                                         'type': 'local_file'},\n",
      "                        'model.pkl': {'path': '/Users/mike0sv/PycharmProjects/zyfra/ebonite/ebonite/examples/notebook_tutorial/.ebonite/artifacts/68a78d5a-3849-45ef-a728-5da4ac37ec34/model.pkl',\n",
      "                                      'type': 'local_file'}},\n",
      "              'type': 'blobs'},\n",
      " 'author': 'mike0sv',\n",
      " 'creation_date': '2020-01-18 22:51:50.296290 ',\n",
      " 'id': '68a78d5a-3849-45ef-a728-5da4ac37ec34',\n",
      " 'name': 'diabetes_model_1',\n",
      " 'requirements': {'requirements': [{'module': 'numpy',\n",
      "                                    'type': 'installable',\n",
      "                                    'version': '1.17.3'},\n",
      "                                   {'module': 'sklearn',\n",
      "                                    'type': 'installable',\n",
      "                                    'version': '0.22.1'}]},\n",
      " 'task_id': '37e6a5f0-17f5-472a-ba5c-8cac142ff55b',\n",
      " 'wrapper': {'type': 'ebonite.ext.sklearn.model.SklearnModelWrapper'}}\n"
     ]
    }
   ],
   "source": [
    "pprint(serialize(model))"
   ]
  },
  {
   "cell_type": "markdown",
   "metadata": {},
   "source": [
    "When we push `Model` to repository, we are not only saving metadata, but also we saving model binary artifacts (i.e. files that contain actual model dump). \n",
    "Those artifacts appear in metadata as artifact attribute of our model. Here we can see two local files: `model.pkl`, which is pickled model and `methods.json`, which is metadata about available methods (`predict` and/or `predict_proba` for example)"
   ]
  },
  {
   "cell_type": "markdown",
   "metadata": {},
   "source": [
    "## Serving model with Flask Server"
   ]
  },
  {
   "cell_type": "markdown",
   "metadata": {},
   "source": [
    "We also can use `Model` object to create services. For this example we will use nice builtin flask server. But you can implement any type of server you need for your system.\n",
    "\n",
    "\n",
    "N.B. Running server in jupyter is bad idea, we do this for demo purposes.\n",
    "Actually `run_model_server` function is mainly for debugging your server or model, \n",
    "in production we encourage you to build docker images with your servers\n"
   ]
  },
  {
   "cell_type": "code",
   "execution_count": 11,
   "metadata": {},
   "outputs": [],
   "source": [
    "from ebonite.runtime import run_model_server"
   ]
  },
  {
   "cell_type": "code",
   "execution_count": 13,
   "metadata": {
    "scrolled": true
   },
   "outputs": [
    {
     "name": "stdout",
     "output_type": "stream",
     "text": [
      "2020-01-19 01:53:41,826 [INFO] ebonite_runtime: Starting Ebonite runtime with loader MockLoader and server FlaskServer ...\n",
      "2020-01-19 01:53:41,840 [INFO] ebonite_runtime: Running server <ebonite.ext.flask.server.FlaskServer object at 0x11c8f2b38>\n",
      " * Serving Flask app \"ebonite.ext.flask.server\" (lazy loading)\n",
      " * Environment: production\n",
      "   WARNING: This is a development server. Do not use it in a production deployment.\n",
      "   Use a production WSGI server instead.\n",
      " * Debug mode: off\n"
     ]
    },
    {
     "name": "stderr",
     "output_type": "stream",
     "text": [
      " * Running on http://0.0.0.0:9000/ (Press CTRL+C to quit)\n",
      "127.0.0.1 - - [19/Jan/2020 01:53:45] \"\u001b[37mGET /apidocs/ HTTP/1.1\u001b[0m\" 200 -\n",
      "127.0.0.1 - - [19/Jan/2020 01:53:45] \"\u001b[36mGET /flasgger_static/swagger-ui.css HTTP/1.1\u001b[0m\" 304 -\n",
      "127.0.0.1 - - [19/Jan/2020 01:53:45] \"\u001b[36mGET /flasgger_static/swagger-ui-bundle.js HTTP/1.1\u001b[0m\" 304 -\n",
      "127.0.0.1 - - [19/Jan/2020 01:53:45] \"\u001b[36mGET /flasgger_static/swagger-ui-standalone-preset.js HTTP/1.1\u001b[0m\" 304 -\n",
      "127.0.0.1 - - [19/Jan/2020 01:53:45] \"\u001b[36mGET /flasgger_static/lib/jquery.min.js HTTP/1.1\u001b[0m\" 304 -\n",
      "127.0.0.1 - - [19/Jan/2020 01:53:46] \"\u001b[37mGET /apispec_1.json HTTP/1.1\u001b[0m\" 200 -\n",
      "127.0.0.1 - - [19/Jan/2020 01:53:50] \"\u001b[1m\u001b[31mPOST /predict HTTP/1.1\u001b[0m\" 400 -\n",
      "127.0.0.1 - - [19/Jan/2020 01:54:02] \"\u001b[37mPOST /predict HTTP/1.1\u001b[0m\" 200 -\n"
     ]
    }
   ],
   "source": [
    "from ebonite.ext.flask.server import FlaskServer\n",
    "run_model_server(model, FlaskServer())"
   ]
  },
  {
   "cell_type": "markdown",
   "metadata": {},
   "source": [
    "Now you can check out cool OpenAPI (ex-swagger) UI [here](http://localhost:9000/apidocs)\n",
    "You can even send some test requests there.\n",
    "\n",
    "Before you continue, don't forget to stop server cell with `Ctrl+C`"
   ]
  },
  {
   "cell_type": "markdown",
   "metadata": {},
   "source": [
    "## Building and running docker container with Model\n",
    "\n",
    "But the best way to deploy your model is to create a docker image with this model and run it on your infrastructure.\n",
    "You'll need docker up and running on your machine for this to work"
   ]
  },
  {
   "cell_type": "code",
   "execution_count": 14,
   "metadata": {},
   "outputs": [],
   "source": [
    "from ebonite.ext.flask.helpers import build_model_flask_docker"
   ]
  },
  {
   "cell_type": "markdown",
   "metadata": {},
   "source": [
    "Here we use helper method to build production-ready flask server with uwsgi and nginx web server.\n",
    "For less specific build you can use more common function `ebonite.build.build_model_docker`\n",
    "\n",
    "This step can take a while, so be patient."
   ]
  },
  {
   "cell_type": "code",
   "execution_count": 15,
   "metadata": {},
   "outputs": [
    {
     "name": "stdout",
     "output_type": "stream",
     "text": [
      "2020-01-19 01:55:41,905 [INFO] ebonite: Build successful\n"
     ]
    }
   ],
   "source": [
    "build_model_flask_docker('nb_example_diabetes', model, force_overwrite=True)"
   ]
  },
  {
   "cell_type": "markdown",
   "metadata": {},
   "source": [
    "Now we can run our docker image right from code."
   ]
  },
  {
   "cell_type": "code",
   "execution_count": 21,
   "metadata": {},
   "outputs": [],
   "source": [
    "ebnt.run_service('nb_example_diabetes', {9000:80}, detach=True) "
   ]
  },
  {
   "cell_type": "markdown",
   "metadata": {},
   "source": [
    "Here is the link to the same [OpenAPI UI](http://localhost:80/apidocs)"
   ]
  },
  {
   "cell_type": "markdown",
   "metadata": {},
   "source": [
    "## Sending requests to service\n",
    "\n",
    "Builtin flask server also provides an [endpoint](http://localhost:80/interface.json) with it's interface, and we can create a client from it."
   ]
  },
  {
   "cell_type": "code",
   "execution_count": 22,
   "metadata": {},
   "outputs": [],
   "source": [
    "from ebonite.ext.flask.client import HTTPClient"
   ]
  },
  {
   "cell_type": "code",
   "execution_count": 23,
   "metadata": {},
   "outputs": [],
   "source": [
    "client = HTTPClient('localhost', 80)"
   ]
  },
  {
   "cell_type": "markdown",
   "metadata": {},
   "source": [
    "Now we can send requests to our service using the same data types the unrelying model needs. The client will handle serialization for us."
   ]
  },
  {
   "cell_type": "code",
   "execution_count": 28,
   "metadata": {},
   "outputs": [
    {
     "data": {
      "text/plain": [
       "Method(name='predict', args=[Argument(name='vector', type=<class 'pyjackson.generics.NumpyNdarrayDatasetType[shape=(None, 10),dtype=float64]'>)], out_type=<class 'pyjackson.generics.NumpyNdarrayDatasetType[shape=(None,),dtype=float64]'>)"
      ]
     },
     "execution_count": 28,
     "metadata": {},
     "output_type": "execute_result"
    }
   ],
   "source": [
    "client.methods['predict']"
   ]
  },
  {
   "cell_type": "code",
   "execution_count": 25,
   "metadata": {},
   "outputs": [
    {
     "data": {
      "text/plain": [
       "array([2532.25644396])"
      ]
     },
     "execution_count": 25,
     "metadata": {},
     "output_type": "execute_result"
    }
   ],
   "source": [
    "import numpy as np\n",
    "\n",
    "client.predict(np.array([[0., 1., 2., 3., 4., 5., 6., .7, .8, .9]]))"
   ]
  },
  {
   "cell_type": "markdown",
   "metadata": {},
   "source": [
    "## Python function example\n",
    "\n",
    "Sometimes you need to do some pre- or postprocessing on data. In this case you can create a python function with your logic and use it as a model.\n",
    "Or you even have a plain python function with some ifs which IS your model."
   ]
  },
  {
   "cell_type": "code",
   "execution_count": 34,
   "metadata": {},
   "outputs": [],
   "source": [
    "def is_bad(data):\n",
    "    preds = lr.predict(data)\n",
    "    return preds > 150"
   ]
  },
  {
   "cell_type": "markdown",
   "metadata": {},
   "source": [
    "Lets repeat the same steps for this function."
   ]
  },
  {
   "cell_type": "code",
   "execution_count": 38,
   "metadata": {},
   "outputs": [],
   "source": [
    "model2 = ebonite.create_model(is_bad, X, model_name='diabetes_model_2')"
   ]
  },
  {
   "cell_type": "code",
   "execution_count": 39,
   "metadata": {},
   "outputs": [
    {
     "name": "stdout",
     "output_type": "stream",
     "text": [
      "{'author': 'mike0sv',\n",
      " 'creation_date': '2020-01-18 23:14:16.051823 ',\n",
      " 'name': 'diabetes_model_2',\n",
      " 'requirements': {'requirements': [{'module': 'numpy',\n",
      "                                    'type': 'installable',\n",
      "                                    'version': '1.17.3'},\n",
      "                                   {'module': 'sklearn',\n",
      "                                    'type': 'installable',\n",
      "                                    'version': '0.22.1'}]},\n",
      " 'wrapper': {'type': 'callable_method'}}\n"
     ]
    }
   ],
   "source": [
    "pprint(serialize(model2))"
   ]
  },
  {
   "cell_type": "markdown",
   "metadata": {},
   "source": [
    "Ebonite still got all the requirements right. \n",
    "Let's create and run a service. Note that you actually don't need to save model to do it."
   ]
  },
  {
   "cell_type": "code",
   "execution_count": 42,
   "metadata": {},
   "outputs": [
    {
     "name": "stdout",
     "output_type": "stream",
     "text": [
      "2020-01-19 02:15:29,267 [INFO] ebonite: Build successful\n"
     ]
    }
   ],
   "source": [
    "build_model_flask_docker('nb_example_diabetes2', model2, force_overwrite=True)"
   ]
  },
  {
   "cell_type": "code",
   "execution_count": 44,
   "metadata": {},
   "outputs": [],
   "source": [
    "ebnt.run_service('nb_example_diabetes2', {9000:81}, detach=True)"
   ]
  },
  {
   "cell_type": "markdown",
   "metadata": {},
   "source": [
    "And do some requests."
   ]
  },
  {
   "cell_type": "code",
   "execution_count": 46,
   "metadata": {},
   "outputs": [],
   "source": [
    "client2 = HTTPClient('localhost', 81)"
   ]
  },
  {
   "cell_type": "code",
   "execution_count": 47,
   "metadata": {},
   "outputs": [
    {
     "data": {
      "text/plain": [
       "Method(name='predict', args=[Argument(name='vector', type=<class 'pyjackson.generics.NumpyNdarrayDatasetType[shape=(None, 10),dtype=float64]'>)], out_type=<class 'pyjackson.generics.NumpyNdarrayDatasetType[shape=(None,),dtype=bool]'>)"
      ]
     },
     "execution_count": 47,
     "metadata": {},
     "output_type": "execute_result"
    }
   ],
   "source": [
    "client2.methods['predict']"
   ]
  },
  {
   "cell_type": "markdown",
   "metadata": {},
   "source": [
    "Note that out_type changed to numpy array of type 'bool'"
   ]
  },
  {
   "cell_type": "code",
   "execution_count": 48,
   "metadata": {},
   "outputs": [
    {
     "data": {
      "text/plain": [
       "array([ True])"
      ]
     },
     "execution_count": 48,
     "metadata": {},
     "output_type": "execute_result"
    }
   ],
   "source": [
    "client2.predict(np.array([[0., 1., 2., 3., 4., 5., 6., .7, .8, .9]]))"
   ]
  }
 ],
 "metadata": {
  "kernelspec": {
   "display_name": "Python 3",
   "language": "python",
   "name": "python3"
  },
  "language_info": {
   "codemirror_mode": {
    "name": "ipython",
    "version": 3
   },
   "file_extension": ".py",
   "mimetype": "text/x-python",
   "name": "python",
   "nbconvert_exporter": "python",
   "pygments_lexer": "ipython3",
   "version": "3.6.8"
  },
  "pycharm": {
   "stem_cell": {
    "cell_type": "raw",
    "metadata": {
     "collapsed": false
    },
    "source": []
   }
  }
 },
 "nbformat": 4,
 "nbformat_minor": 1
}
